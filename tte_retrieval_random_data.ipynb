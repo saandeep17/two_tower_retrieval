{
  "nbformat": 4,
  "nbformat_minor": 0,
  "metadata": {
    "colab": {
      "provenance": [],
      "authorship_tag": "ABX9TyMBG0kyCFhKmge/VmQAjO81",
      "include_colab_link": true
    },
    "kernelspec": {
      "name": "python3",
      "display_name": "Python 3"
    },
    "language_info": {
      "name": "python"
    }
  },
  "cells": [
    {
      "cell_type": "markdown",
      "metadata": {
        "id": "view-in-github",
        "colab_type": "text"
      },
      "source": [
        "<a href=\"https://colab.research.google.com/github/saandeep17/two_tower_retrieval/blob/main/tte_retrieval_random_data.ipynb\" target=\"_parent\"><img src=\"https://colab.research.google.com/assets/colab-badge.svg\" alt=\"Open In Colab\"/></a>"
      ]
    },
    {
      "cell_type": "code",
      "source": [
        "pip install faiss-cpu"
      ],
      "metadata": {
        "colab": {
          "base_uri": "https://localhost:8080/"
        },
        "id": "xVh9o7yEf6EH",
        "outputId": "7da7df9a-88eb-47f2-9db2-be4f3f67d9a4"
      },
      "execution_count": null,
      "outputs": [
        {
          "output_type": "stream",
          "name": "stdout",
          "text": [
            "Collecting faiss-cpu\n",
            "  Downloading faiss_cpu-1.10.0-cp311-cp311-manylinux_2_28_x86_64.whl.metadata (4.4 kB)\n",
            "Requirement already satisfied: numpy<3.0,>=1.25.0 in /usr/local/lib/python3.11/dist-packages (from faiss-cpu) (2.0.2)\n",
            "Requirement already satisfied: packaging in /usr/local/lib/python3.11/dist-packages (from faiss-cpu) (24.2)\n",
            "Downloading faiss_cpu-1.10.0-cp311-cp311-manylinux_2_28_x86_64.whl (30.7 MB)\n",
            "\u001b[2K   \u001b[90m━━━━━━━━━━━━━━━━━━━━━━━━━━━━━━━━━━━━━━━━\u001b[0m \u001b[32m30.7/30.7 MB\u001b[0m \u001b[31m51.1 MB/s\u001b[0m eta \u001b[36m0:00:00\u001b[0m\n",
            "\u001b[?25hInstalling collected packages: faiss-cpu\n",
            "Successfully installed faiss-cpu-1.10.0\n"
          ]
        }
      ]
    },
    {
      "cell_type": "code",
      "execution_count": null,
      "metadata": {
        "colab": {
          "base_uri": "https://localhost:8080/"
        },
        "id": "zVXgTj744eYS",
        "outputId": "c5575faa-cd6c-4c9f-8f2f-30b14e82c6ef"
      },
      "outputs": [
        {
          "output_type": "stream",
          "name": "stdout",
          "text": [
            "Epoch 1 loss: 3.3311\n",
            "Epoch 2 loss: 1.5438\n",
            "Epoch 3 loss: 0.4948\n"
          ]
        }
      ],
      "source": [
        "import torch\n",
        "import torch.nn as nn\n",
        "import numpy as np\n",
        "import faiss\n",
        "\n",
        "# Random data\n",
        "num_users = 1000\n",
        "num_items = 2000\n",
        "embedding_dim = 32\n",
        "interactions = 10000\n",
        "\n",
        "np.random.seed(42)\n",
        "user_ids = np.random.randint(0, num_users, interactions)\n",
        "item_ids = np.random.randint(0, num_items, interactions)\n",
        "labels = np.random.randint(0, 2, interactions)\n",
        "\n",
        "# Simple two-tower model\n",
        "class TwoTowerModel(nn.Module):\n",
        "  def __init__(self, num_users, num_items, embedding_dim):\n",
        "    super().__init__()\n",
        "    self.user_embedding = nn.Embedding(num_users, embedding_dim)\n",
        "    self.item_embedding = nn.Embedding(num_items, embedding_dim)\n",
        "\n",
        "  def forward(self, user_ids, item_ids):\n",
        "    u = self.user_embedding(user_ids)\n",
        "    v = self.item_embedding(item_ids)\n",
        "    score = (u*v).sum(dim=1)\n",
        "    return score\n",
        "\n",
        "  def encode_user(self, user_id):\n",
        "    return self.user_embedding(user_id)\n",
        "\n",
        "  def encode_item(self, item_id):\n",
        "    return self.item_embedding(item_id)\n",
        "\n",
        "\n",
        "# model training\n",
        "model = TwoTowerModel(num_users, num_items, embedding_dim)\n",
        "optimizer = torch.optim.Adam(model.parameters(), lr=1e-2)\n",
        "loss_fn = nn.BCEWithLogitsLoss()\n",
        "\n",
        "BATCH_SIZE = 256\n",
        "EPOCHS = 3\n",
        "\n",
        "for epoch in range(EPOCHS):\n",
        "  perm = np.random.permutation(interactions)\n",
        "  for i in range(0, interactions, BATCH_SIZE):\n",
        "    batch_idx = perm[i:i+BATCH_SIZE]\n",
        "    u = torch.LongTensor(user_ids[batch_idx])\n",
        "    v  = torch.LongTensor(item_ids[batch_idx])\n",
        "    y = torch.FloatTensor(labels[batch_idx])\n",
        "\n",
        "    optimizer.zero_grad()\n",
        "    scores = model(u,v)\n",
        "    loss = loss_fn(scores, y)\n",
        "    loss.backward()\n",
        "    optimizer.step()\n",
        "  print(f\"Epoch {epoch+1} loss: {loss.item():.4f}\")\n",
        "\n",
        "\n",
        "\n",
        "\n",
        "\n",
        "\n",
        "\n"
      ]
    },
    {
      "cell_type": "code",
      "source": [],
      "metadata": {
        "id": "f-S_uAiXAUzp"
      },
      "execution_count": null,
      "outputs": []
    }
  ]
}